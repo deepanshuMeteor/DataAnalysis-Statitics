{
 "cells": [
  {
   "cell_type": "markdown",
   "metadata": {},
   "source": [
    "## Two Sample (Independent) t-test\n",
    "\n",
    "The independent two-sample t-test is used to compare the means of two different samples representing two different populations. There are two different tests of this kind applied to normally distributed data:\n",
    "<br>\n",
    "**Student’s t-test** assumes that the variances of the two samples are the same\n",
    "<br>\n",
    "**Welch's t-test** which does not assume that the variances of  the two samples are the same\n",
    "\n",
    "\n",
    "**Null hypothesis**: Two group means are equal\n",
    "<br>\n",
    "**Alternative hypothesis**: Two group means are different (two-tailed or two-sided)\n",
    "<br>\n",
    "**Alternative hypothesis**: Mean of one group either greater or less than another group (one-tailed or one-sided)"
   ]
  },
  {
   "cell_type": "code",
   "execution_count": null,
   "metadata": {},
   "outputs": [],
   "source": [
    "# import libraries\n",
    "import numpy as np\n",
    "import pandas as pd\n",
    "\n",
    "from scipy.stats import ttest_ind\n",
    "from scipy.stats import f_oneway\n",
    "from statsmodels.stats.multicomp import pairwise_tukeyhsd"
   ]
  },
  {
   "cell_type": "markdown",
   "metadata": {},
   "source": [
    "### Two-Sample T-Test with SciPy\n",
    "\n",
    "stats.ttest_ind(a, b, axis=0, equal_var=True)\n",
    "\n",
    "a, b - sample data in an array like format. Both arrays must have the same shape\n",
    "axis - Axis along which to compute test. If None, compute over the whole arrays, a, and b.\n",
    "equal_var - If True (default), perform a standard independent 2 sample test that assumes equal population variances (Student's t-test). If False, perform Welch’s t-test, which does not assume equal population variance."
   ]
  },
  {
   "cell_type": "code",
   "execution_count": null,
   "metadata": {},
   "outputs": [],
   "source": [
    "# generate normally distributed random numbers\n",
    "# different means same standard deviations\n",
    "# loc = mean; scale = standard deviation; size = shape of the returned array\n",
    "x = np.random.normal(loc=100, scale=5, size=(20, 1))\n",
    "y = np.random.normal(loc=105, scale=5, size=(20, 1))"
   ]
  },
  {
   "cell_type": "code",
   "execution_count": null,
   "metadata": {},
   "outputs": [],
   "source": [
    "# equal variances - Student's t-test\n",
    "results = ttest_ind(x, y, equal_var=True)\n",
    "print(results)"
   ]
  },
  {
   "cell_type": "code",
   "execution_count": null,
   "metadata": {},
   "outputs": [],
   "source": [
    "# generate normally distributed random numbers\n",
    "# different means different standard deviations\n",
    "# loc = mean; scale = standard deviation; size = shape of the returned array\n",
    "x = np.random.normal(loc=100, scale=5, size=(20, 1))\n",
    "y = np.random.normal(loc=105, scale=10, size=(20, 1))"
   ]
  },
  {
   "cell_type": "code",
   "execution_count": null,
   "metadata": {},
   "outputs": [],
   "source": [
    "# Welch t-test - no assumption about variances\n",
    "results = ttest_ind(x, y, equal_var=False)\n",
    "print(results)"
   ]
  },
  {
   "cell_type": "code",
   "execution_count": null,
   "metadata": {},
   "outputs": [],
   "source": [
    "# read the data from file cdc.csv\n",
    "data = pd.read_csv(\"cdc.csv\")\n",
    "data.head()"
   ]
  },
  {
   "cell_type": "code",
   "execution_count": null,
   "metadata": {},
   "outputs": [],
   "source": [
    "data.drop(columns=\"Unnamed: 0\",inplace=True)\n",
    "data.head()"
   ]
  },
  {
   "cell_type": "code",
   "execution_count": null,
   "metadata": {},
   "outputs": [],
   "source": [
    "# separate the data for males and females\n",
    "data_m = data.loc[data['gender'] == 'm']\n",
    "data_f = data.loc[data['gender'] == 'f']"
   ]
  },
  {
   "cell_type": "code",
   "execution_count": null,
   "metadata": {},
   "outputs": [],
   "source": [
    "# separate the data for heights\n",
    "heights_m = data_m['height']\n",
    "heights_f = data_f['height']"
   ]
  },
  {
   "cell_type": "code",
   "execution_count": null,
   "metadata": {},
   "outputs": [],
   "source": [
    "# are the variances equal?\n",
    "var_heights_m = heights_m.var(ddof=1)\n",
    "var_heights_f = heights_f.var(ddof=1)\n",
    "var_heights_m, var_heights_f"
   ]
  },
  {
   "cell_type": "markdown",
   "metadata": {},
   "source": [
    "The variances of heights_m and heights_f are different, therefore it is necessary to use Welch test."
   ]
  },
  {
   "cell_type": "code",
   "execution_count": null,
   "metadata": {},
   "outputs": [],
   "source": [
    "# Welch t-test - no assumption about variances\n",
    "results_mf = ttest_ind(heights_m, heights_f, equal_var=False)\n",
    "print(results_mf)"
   ]
  },
  {
   "cell_type": "markdown",
   "metadata": {},
   "source": [
    "## ANOVA"
   ]
  },
  {
   "cell_type": "code",
   "execution_count": null,
   "metadata": {},
   "outputs": [],
   "source": [
    "# read data from file anova.csv\n",
    "data = pd.read_csv(\"anova.csv\")\n",
    "data.head()"
   ]
  },
  {
   "cell_type": "code",
   "execution_count": null,
   "metadata": {},
   "outputs": [],
   "source": [
    "data.describe()"
   ]
  },
  {
   "cell_type": "code",
   "execution_count": null,
   "metadata": {
    "scrolled": true
   },
   "outputs": [],
   "source": [
    "# perform one-way ANOVA\n",
    "f_oneway(data['No offer'], data['Offer 1'], data['Offer 2'])"
   ]
  },
  {
   "cell_type": "code",
   "execution_count": null,
   "metadata": {},
   "outputs": [],
   "source": [
    "# Tukey's Honest Significant Difference (HSD) \n",
    "data.shape"
   ]
  },
  {
   "cell_type": "code",
   "execution_count": null,
   "metadata": {},
   "outputs": [],
   "source": [
    "# prepare the data\n",
    "No_offer_list = data['No offer'].values.tolist()\n",
    "Offer_1_list = data['Offer 1'].values.tolist()\n",
    "Offer_2_list = data['Offer 2'].values.tolist()\n",
    "D = No_offer_list + Offer_1_list + Offer_2_list"
   ]
  },
  {
   "cell_type": "code",
   "execution_count": null,
   "metadata": {},
   "outputs": [],
   "source": [
    "df = pd.DataFrame({'score': D, 'group': np.repeat(['No offer', 'Offer 1', 'Offer 2'], repeats=150)}) "
   ]
  },
  {
   "cell_type": "code",
   "execution_count": null,
   "metadata": {},
   "outputs": [],
   "source": [
    "# perform Tukey's HSD test and display results\n",
    "tukey = pairwise_tukeyhsd(endog=df['score'], groups=df['group'], alpha=0.05)\n",
    "print(tukey)"
   ]
  },
  {
   "cell_type": "code",
   "execution_count": null,
   "metadata": {},
   "outputs": [],
   "source": []
  }
 ],
 "metadata": {
  "kernelspec": {
   "display_name": "Python 3",
   "language": "python",
   "name": "python3"
  },
  "language_info": {
   "codemirror_mode": {
    "name": "ipython",
    "version": 3
   },
   "file_extension": ".py",
   "mimetype": "text/x-python",
   "name": "python",
   "nbconvert_exporter": "python",
   "pygments_lexer": "ipython3",
   "version": "3.8.5"
  }
 },
 "nbformat": 4,
 "nbformat_minor": 4
}

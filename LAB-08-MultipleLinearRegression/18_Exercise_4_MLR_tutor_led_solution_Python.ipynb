{
 "cells": [
  {
   "cell_type": "markdown",
   "metadata": {},
   "source": [
    "### Multiple Linear Regression - income example with categorical data"
   ]
  },
  {
   "cell_type": "code",
   "execution_count": null,
   "metadata": {},
   "outputs": [],
   "source": [
    "# Import packages\n",
    "import pandas as pd\n",
    "import statsmodels.api as sm\n",
    "\n",
    "# The fundamental data type of pandas is the data frame"
   ]
  },
  {
   "cell_type": "code",
   "execution_count": null,
   "metadata": {},
   "outputs": [],
   "source": [
    "# Get the data - known inputs and outputs\n",
    "data = pd.read_csv('Income_data_categ.csv')\n",
    "data.head()"
   ]
  },
  {
   "cell_type": "code",
   "execution_count": null,
   "metadata": {},
   "outputs": [],
   "source": [
    "# define Residence as categorical\n",
    "data['Residence'] = data['Residence'].astype('category')"
   ]
  },
  {
   "cell_type": "code",
   "execution_count": null,
   "metadata": {},
   "outputs": [],
   "source": [
    "# define the variables\n",
    "\n",
    "# dependent variable (output) - y - income\n",
    "y = data['Income']\n",
    "\n",
    "# continuous and binary independent variables (inputs) - x - age, education, smoker\n",
    "x = data[['Age', 'Education', 'Smoker']]\n",
    "# to x add a column of ones\n",
    "x = sm.add_constant(x)"
   ]
  },
  {
   "cell_type": "code",
   "execution_count": null,
   "metadata": {},
   "outputs": [],
   "source": [
    "y.head()"
   ]
  },
  {
   "cell_type": "code",
   "execution_count": null,
   "metadata": {
    "scrolled": true
   },
   "outputs": [],
   "source": [
    "x.head()"
   ]
  },
  {
   "cell_type": "code",
   "execution_count": null,
   "metadata": {},
   "outputs": [],
   "source": [
    "# create a set of dummy variables for the categorical variable Residence\n",
    "d_Residence = pd.get_dummies(data['Residence'])\n",
    "d_Residence.head(20)"
   ]
  },
  {
   "cell_type": "code",
   "execution_count": null,
   "metadata": {},
   "outputs": [],
   "source": [
    "# we need one less dummy variable than the number of levels of the categorical variables,\n",
    "# otherwise we will introduce multicollinearity.\n",
    "d_Residence.drop(columns='East',inplace=True)\n",
    "d_Residence.head(20)"
   ]
  },
  {
   "cell_type": "code",
   "execution_count": null,
   "metadata": {
    "scrolled": true
   },
   "outputs": [],
   "source": [
    "# add the dummy variables to x\n",
    "x = pd.concat([x, d_Residence[['North','South','West']]], axis=1)\n",
    "x.head()"
   ]
  },
  {
   "cell_type": "code",
   "execution_count": null,
   "metadata": {},
   "outputs": [],
   "source": [
    "# Create and fit the model\n",
    "# NOTE: the first parameter is y, the second is x\n",
    "model = sm.OLS(y,x)"
   ]
  },
  {
   "cell_type": "code",
   "execution_count": null,
   "metadata": {
    "scrolled": true
   },
   "outputs": [],
   "source": [
    "# Get the results\n",
    "results = model.fit()\n",
    "print(results.summary())"
   ]
  },
  {
   "cell_type": "markdown",
   "metadata": {},
   "source": [
    "The p-value for Smoker is 0.17 > 0.05. This variable is not significant statistically and is a bad predictor.\n",
    "It has to be removed."
   ]
  },
  {
   "cell_type": "code",
   "execution_count": null,
   "metadata": {},
   "outputs": [],
   "source": [
    "# remove Smoker\n",
    "x.drop('Smoker',axis=1,inplace=True)\n",
    "x.head()"
   ]
  },
  {
   "cell_type": "code",
   "execution_count": null,
   "metadata": {},
   "outputs": [],
   "source": [
    "# rebuild the model\n",
    "model = sm.OLS(y,x)"
   ]
  },
  {
   "cell_type": "code",
   "execution_count": null,
   "metadata": {},
   "outputs": [],
   "source": [
    "# Get the results\n",
    "results = model.fit()\n",
    "print(results.summary())"
   ]
  },
  {
   "cell_type": "code",
   "execution_count": null,
   "metadata": {},
   "outputs": [],
   "source": [
    "# prediction (in sample)\n",
    "yp = results.fittedvalues\n",
    "print('predicted y:',yp,sep='\\n')"
   ]
  },
  {
   "cell_type": "code",
   "execution_count": null,
   "metadata": {},
   "outputs": [],
   "source": [
    "# prediction (in sample) another way\n",
    "yp = results.predict(x)\n",
    "print('predicted y:',yp,sep='\\n')"
   ]
  },
  {
   "cell_type": "code",
   "execution_count": null,
   "metadata": {},
   "outputs": [],
   "source": [
    "# prediction (out of sample)\n",
    "data_new = [ [25, 10, 1, 0, 0], [35, 15, 0, 1, 0], [50, 10, 0, 0, 0] ]\n",
    "x_new = pd.DataFrame(data_new, columns = ['Age','Education', 'North', 'South', 'West' ])\n",
    "x_new = sm.add_constant(x_new)\n",
    "\n",
    "y_new = results.predict(x_new)\n",
    "print('predicted y:',y_new,sep='\\n')"
   ]
  },
  {
   "cell_type": "code",
   "execution_count": null,
   "metadata": {},
   "outputs": [],
   "source": [
    "# What income would the model predict for a newborn (Age = 0 and Education = 0) ?\n",
    "data_new = [ [0, 0, 1, 0, 0], [0, 0, 0, 1, 0], [0, 0, 0, 0, 0] ]\n",
    "x_new = pd.DataFrame(data_new, columns = ['Age','Education', 'North', 'South', 'West' ])\n",
    "x_new = sm.add_constant(x_new)\n",
    "\n",
    "y_new = results.predict(x_new)\n",
    "print('predicted y:',y_new,sep='\\n')"
   ]
  },
  {
   "cell_type": "code",
   "execution_count": null,
   "metadata": {},
   "outputs": [],
   "source": [
    "# Surely this can't be right ! Or can it ?\n",
    "# Let's check the model\n",
    "print(results.summary())"
   ]
  },
  {
   "cell_type": "code",
   "execution_count": null,
   "metadata": {},
   "outputs": [],
   "source": [
    "# The intercept and all coefficients are positive.\n",
    "# The model will always predict positive values.\n",
    "# We can \"force\" the model to have intercept = 0, i.e. to pass\n",
    "# through the origin of the coordinate system.\n",
    "# This is our model input now:\n",
    "x.head()"
   ]
  },
  {
   "cell_type": "code",
   "execution_count": null,
   "metadata": {},
   "outputs": [],
   "source": [
    "# To have intercept zero we have to remove the first (const) column:\n",
    "x.drop('const',axis=1,inplace=True)\n",
    "x.head()"
   ]
  },
  {
   "cell_type": "code",
   "execution_count": null,
   "metadata": {},
   "outputs": [],
   "source": [
    "# build the no-intercept model\n",
    "model_0 = sm.OLS(y,x)"
   ]
  },
  {
   "cell_type": "code",
   "execution_count": null,
   "metadata": {},
   "outputs": [],
   "source": [
    "# Get the results\n",
    "results_0 = model_0.fit()\n",
    "print(results_0.summary())"
   ]
  },
  {
   "cell_type": "code",
   "execution_count": null,
   "metadata": {},
   "outputs": [],
   "source": [
    "# However, this is not the right thing to do.\n",
    "# The data we have used to train the model is for people of ages between\n",
    "x['Age'].min(), x['Age'].max()"
   ]
  },
  {
   "cell_type": "code",
   "execution_count": null,
   "metadata": {},
   "outputs": [],
   "source": [
    "# ... and education years between\n",
    "x['Education'].min(), x['Education'].max()"
   ]
  },
  {
   "cell_type": "code",
   "execution_count": null,
   "metadata": {},
   "outputs": [],
   "source": [
    "# Age = 0 and Education = 0 are far away from the data we used to \n",
    "# train the model.\n",
    "# A predictive model can be relied upon only when the input is \n",
    "# within the range of the training data. It has not \"learnt\" what \n",
    "# happens outside this range."
   ]
  },
  {
   "cell_type": "code",
   "execution_count": null,
   "metadata": {},
   "outputs": [],
   "source": []
  }
 ],
 "metadata": {
  "kernelspec": {
   "display_name": "Python 3",
   "language": "python",
   "name": "python3"
  },
  "language_info": {
   "codemirror_mode": {
    "name": "ipython",
    "version": 3
   },
   "file_extension": ".py",
   "mimetype": "text/x-python",
   "name": "python",
   "nbconvert_exporter": "python",
   "pygments_lexer": "ipython3",
   "version": "3.8.5"
  }
 },
 "nbformat": 4,
 "nbformat_minor": 4
}

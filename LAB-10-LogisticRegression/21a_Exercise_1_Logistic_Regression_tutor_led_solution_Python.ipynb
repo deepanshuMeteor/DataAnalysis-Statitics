{
 "cells": [
  {
   "cell_type": "markdown",
   "metadata": {},
   "source": [
    "## Logistic regression\n",
    "\n",
    "### probability to pass or fail an exam depending on hours of study\n",
    "### data source: Wikipedia\n",
    "### https://en.wikipedia.org/wiki/Logistic_regression\n"
   ]
  },
  {
   "cell_type": "code",
   "execution_count": null,
   "metadata": {},
   "outputs": [],
   "source": [
    "import sklearn\n",
    "import pandas as pd\n",
    "import numpy as np\n",
    "import statsmodels.api as sm\n",
    "import statsmodels.formula.api as smf\n",
    "from sklearn.linear_model import LogisticRegression\n",
    "from sklearn.metrics import accuracy_score\n",
    "from sklearn import metrics\n",
    "from matplotlib import pyplot as plt"
   ]
  },
  {
   "cell_type": "code",
   "execution_count": null,
   "metadata": {},
   "outputs": [],
   "source": [
    "# read the data\n",
    "data_exams = pd.read_csv(\"PassFail.csv\")\n",
    "data_exams.head()"
   ]
  },
  {
   "cell_type": "code",
   "execution_count": null,
   "metadata": {},
   "outputs": [],
   "source": [
    "data_exams.describe()"
   ]
  },
  {
   "cell_type": "code",
   "execution_count": null,
   "metadata": {},
   "outputs": [],
   "source": [
    "formula = 'Pass ~ Hours'\n",
    "model = smf.glm(formula=formula, data=data_exams, family = sm.families.Binomial())\n",
    "result = model.fit()\n",
    "result.summary()"
   ]
  },
  {
   "cell_type": "code",
   "execution_count": null,
   "metadata": {},
   "outputs": [],
   "source": [
    "probabilities = result.predict(data_exams['Hours'])"
   ]
  },
  {
   "cell_type": "code",
   "execution_count": null,
   "metadata": {},
   "outputs": [],
   "source": [
    "plt.scatter(data_exams['Hours'],probabilities,marker='+',color='red')"
   ]
  },
  {
   "cell_type": "code",
   "execution_count": null,
   "metadata": {},
   "outputs": [],
   "source": [
    "# what is the probability of passing with 2 hours of study ?\n",
    "Hours = [2]\n",
    "x = pd.DataFrame(Hours, columns = ['Hours'])\n",
    "pass_pred = result.predict(x)\n",
    "pass_pred"
   ]
  },
  {
   "cell_type": "code",
   "execution_count": null,
   "metadata": {},
   "outputs": [],
   "source": [
    "# One student studies 2.5 hours and another 3.5 hours\n",
    "Hours = [2.5, 3.5]\n",
    "x = pd.DataFrame(Hours, columns = ['Hours'])\n",
    "pass_pred = result.predict(x)\n",
    "pass_pred"
   ]
  },
  {
   "cell_type": "markdown",
   "metadata": {},
   "source": [
    "#### What if we want to split the students into two groups: \"likely to pass\" and \"likely to fail\"?\n",
    "#### We need to decide what is high enough probability to pass, so any student with a probability to pass that is higher than that threshold will be assigned to the \"likely to pass\" group, otherwise - to the \"likely to fail\" group.\n"
   ]
  },
  {
   "cell_type": "code",
   "execution_count": null,
   "metadata": {},
   "outputs": [],
   "source": [
    "# Usually the threshold that is used is 0.5\n",
    "# The in-sample predictions\n",
    "classes = np.where( probabilities > 0.5, 1, 0 )\n",
    "classes"
   ]
  },
  {
   "cell_type": "code",
   "execution_count": null,
   "metadata": {},
   "outputs": [],
   "source": [
    "# Out of sample predictions\n",
    "Hours = [2.5, 3.5]\n",
    "x = pd.DataFrame(Hours, columns = ['Hours'])\n",
    "pass_pred = result.predict(x)\n",
    "cls = np.where( pass_pred > 0.5, 1, 0 )\n",
    "cls\n"
   ]
  },
  {
   "cell_type": "markdown",
   "metadata": {},
   "source": [
    "### Using LogisticRegression() from sklearn"
   ]
  },
  {
   "cell_type": "code",
   "execution_count": null,
   "metadata": {},
   "outputs": [],
   "source": [
    "logreg = LogisticRegression()\n",
    "logreg.fit(data_exams[['Hours']], data_exams.Pass)"
   ]
  },
  {
   "cell_type": "code",
   "execution_count": null,
   "metadata": {},
   "outputs": [],
   "source": [
    "y_pred = logreg.predict(data_exams[['Hours']])\n",
    "y_pred"
   ]
  },
  {
   "cell_type": "code",
   "execution_count": null,
   "metadata": {},
   "outputs": [],
   "source": [
    "# confusion matrix\n",
    "cnf_matrix = metrics.confusion_matrix(data_exams.Pass, y_pred)\n",
    "cnf_matrix"
   ]
  },
  {
   "cell_type": "code",
   "execution_count": null,
   "metadata": {},
   "outputs": [],
   "source": [
    "# ROC curve\n",
    "y_pred_proba = logreg.predict_proba(data_exams[['Hours']])[::,1]\n",
    "fpr, tpr, _ = metrics.roc_curve(data_exams.Pass,  y_pred_proba)\n",
    "auc = metrics.roc_auc_score(data_exams.Pass, y_pred_proba)\n",
    "plt.plot(fpr,tpr,label=\"data 1, auc=\"+str(auc))\n",
    "plt.legend(loc=4)\n",
    "plt.show()"
   ]
  },
  {
   "cell_type": "code",
   "execution_count": null,
   "metadata": {},
   "outputs": [],
   "source": []
  }
 ],
 "metadata": {
  "kernelspec": {
   "display_name": "Python 3",
   "language": "python",
   "name": "python3"
  },
  "language_info": {
   "codemirror_mode": {
    "name": "ipython",
    "version": 3
   },
   "file_extension": ".py",
   "mimetype": "text/x-python",
   "name": "python",
   "nbconvert_exporter": "python",
   "pygments_lexer": "ipython3",
   "version": "3.8.5"
  }
 },
 "nbformat": 4,
 "nbformat_minor": 4
}

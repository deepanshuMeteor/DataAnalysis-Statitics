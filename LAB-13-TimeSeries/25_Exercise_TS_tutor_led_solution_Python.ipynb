{
 "cells": [
  {
   "cell_type": "code",
   "execution_count": null,
   "metadata": {},
   "outputs": [],
   "source": [
    "import numpy as np\n",
    "import pandas as pd\n",
    "import pmdarima as pm\n",
    "\n",
    "from pmdarima.model_selection import train_test_split\n",
    "from statsmodels.tsa.stattools import adfuller\n",
    "from statsmodels.graphics.tsaplots import plot_acf, plot_pacf\n",
    "from statsmodels.tsa.seasonal import seasonal_decompose\n",
    "\n",
    "import matplotlib.pyplot as plt\n",
    "import os"
   ]
  },
  {
   "cell_type": "markdown",
   "metadata": {},
   "source": [
    "#Read in the data"
   ]
  },
  {
   "cell_type": "code",
   "execution_count": null,
   "metadata": {},
   "outputs": [],
   "source": [
    "sales_data = pd.read_csv(\"Tractor-Sales.csv\")\n",
    "sales_data.head(5)"
   ]
  },
  {
   "cell_type": "markdown",
   "metadata": {},
   "source": [
    "#Since the complete date is not mentioned, assume the first of every month hence freq = 'MS' (month start)"
   ]
  },
  {
   "cell_type": "code",
   "execution_count": null,
   "metadata": {},
   "outputs": [],
   "source": [
    "dates = pd.date_range(start='2003-01-01', freq='MS', periods=len(sales_data))"
   ]
  },
  {
   "cell_type": "code",
   "execution_count": null,
   "metadata": {},
   "outputs": [],
   "source": [
    "import calendar\n",
    "sales_data['Month'] = dates.month\n",
    "sales_data['Month'] = sales_data['Month'].apply(lambda x: calendar.month_abbr[x])\n",
    "sales_data['Year'] = dates.year"
   ]
  },
  {
   "cell_type": "code",
   "execution_count": null,
   "metadata": {},
   "outputs": [],
   "source": [
    "sales_data.drop(['Month-Year'], axis=1, inplace=True)\n",
    "sales_data.rename(columns={'Number of Tractor Sold':'Tractor-Sales'}, inplace=True)\n",
    "sales_data = sales_data[['Month', 'Year', 'Tractor-Sales']]"
   ]
  },
  {
   "cell_type": "markdown",
   "metadata": {},
   "source": [
    "#set the dates as the index of the dataframe so it can be treated as a time-series dataframe"
   ]
  },
  {
   "cell_type": "code",
   "execution_count": null,
   "metadata": {},
   "outputs": [],
   "source": [
    "sales_data.set_index(dates, inplace=True)\n",
    "sales_data.head(5)"
   ]
  },
  {
   "cell_type": "markdown",
   "metadata": {},
   "source": [
    "#plot the time-series"
   ]
  },
  {
   "cell_type": "code",
   "execution_count": null,
   "metadata": {},
   "outputs": [],
   "source": [
    "sales_ts = sales_data['Tractor-Sales']\n",
    "plt.figure(figsize=(10, 5))\n",
    "plt.plot(sales_ts)\n",
    "plt.xlabel('Years')\n",
    "plt.ylabel('Tractor Sales')"
   ]
  },
  {
   "cell_type": "markdown",
   "metadata": {},
   "source": [
    "#decomposition of the time series\n",
    "#It is multiplicative because the amplitude of the seasonal variances increases with time"
   ]
  },
  {
   "cell_type": "code",
   "execution_count": null,
   "metadata": {},
   "outputs": [],
   "source": [
    "decomposition = seasonal_decompose(sales_ts, model='multiplicative', period=12)\n",
    "decomposition.plot()"
   ]
  },
  {
   "cell_type": "code",
   "execution_count": null,
   "metadata": {},
   "outputs": [],
   "source": [
    "# split into train and test, the last 12 months to test\n",
    "train = sales_ts.iloc[:132]\n",
    "test = sales_ts.iloc[132:]"
   ]
  },
  {
   "cell_type": "code",
   "execution_count": null,
   "metadata": {},
   "outputs": [],
   "source": [
    "# auto ARIMA\n",
    "model_auto_arima = pm.auto_arima(train, m=12)\n",
    "model_auto_arima.summary()"
   ]
  },
  {
   "cell_type": "code",
   "execution_count": null,
   "metadata": {},
   "outputs": [],
   "source": [
    "# Predict the last 12 months of the original data\n",
    "forecast_auto_arima = model_auto_arima.predict(12)"
   ]
  },
  {
   "cell_type": "code",
   "execution_count": null,
   "metadata": {},
   "outputs": [],
   "source": [
    "# Forecast versus Actual for the test data\n",
    "plt.figure(figsize = (20,7))\n",
    "plt.title('Tractor Sales')\n",
    "x = np.arange(sales_data.shape[0])\n",
    "plt.plot(sales_data.index[:132], train, c='blue')\n",
    "plt.plot(sales_data.index[132:], forecast_auto_arima, c='green', label = 'Auto ARIMA Forecast')\n",
    "plt.plot(sales_data.index[132:], test, c='red', label = 'Actual')\n",
    "plt.legend()\n",
    "plt.xticks(rotation=90)\n",
    "plt.show()"
   ]
  },
  {
   "cell_type": "code",
   "execution_count": null,
   "metadata": {},
   "outputs": [],
   "source": [
    "# Mean Absolute Error (MAE)\n",
    "MAE = (abs(forecast_auto_arima - test)).mean()\n",
    "print('The Mean Absolute Error of the auto arima forecasts is', round(MAE, 2))"
   ]
  },
  {
   "cell_type": "code",
   "execution_count": null,
   "metadata": {},
   "outputs": [],
   "source": [
    "# Mean Absolute Percentage Error (MAPE)\n",
    "MAPE = (abs(forecast_auto_arima - test)/abs(test)).mean()\n",
    "print('The Mean Absolute Percentage Error of the auto arima forecasts is', round(MAPE, 4))"
   ]
  },
  {
   "cell_type": "markdown",
   "metadata": {},
   "source": [
    "### Now let's do it on our own, without auto arima"
   ]
  },
  {
   "cell_type": "markdown",
   "metadata": {},
   "source": [
    "##### Using ACF and PACF to find the model orders.\n",
    "\n",
    "###### First, we need to make the time series stationary."
   ]
  },
  {
   "cell_type": "markdown",
   "metadata": {},
   "source": [
    "Check stationarity using Dickey-Fuller test\n",
    "Dickey-Fuller test assumes null hypothesis non-stationary time series"
   ]
  },
  {
   "cell_type": "code",
   "execution_count": null,
   "metadata": {},
   "outputs": [],
   "source": [
    "from statsmodels.tsa.stattools import adfuller\n",
    "print('Results of Dickey-Fuller Test:')\n",
    "dftest = adfuller(sales_ts, autolag='AIC')\n",
    "dfoutput = pd.Series(dftest[0:4], index=['Test Statistic', 'p-value', '#lags Used', 'Number of Observations Used'])\n",
    "for key, value in dftest[4].items():\n",
    "    dfoutput['Critical Value (%s)'%key] = value\n",
    "print(dfoutput)"
   ]
  },
  {
   "cell_type": "markdown",
   "metadata": {},
   "source": [
    "differencing to stationarise the time series"
   ]
  },
  {
   "cell_type": "code",
   "execution_count": null,
   "metadata": {},
   "outputs": [],
   "source": [
    "plt.figure(figsize=(10, 5))\n",
    "plt.plot(sales_ts.diff(periods=1))\n",
    "plt.xlabel('Years')\n",
    "plt.ylabel('Tractor Sales')"
   ]
  },
  {
   "cell_type": "markdown",
   "metadata": {},
   "source": [
    "The data becomes stationary by mean (flat) but not stationary by variance (the amplitude of the variance increases).\n",
    "\n",
    "To make a time series stationary on variance it is best to first perform a logarithmic transformation of the original data."
   ]
  },
  {
   "cell_type": "markdown",
   "metadata": {},
   "source": [
    "Plot of the logarithm of the original data (log10) "
   ]
  },
  {
   "cell_type": "code",
   "execution_count": null,
   "metadata": {},
   "outputs": [],
   "source": [
    "plt.figure(figsize=(10, 5))\n",
    "plt.plot(np.log10(sales_ts))\n",
    "plt.xlabel('Years')\n",
    "plt.ylabel('Log (Tractor Sales)')"
   ]
  },
  {
   "cell_type": "markdown",
   "metadata": {},
   "source": [
    "The series of the logarithms of the data is stationary in variance but not in mean"
   ]
  },
  {
   "cell_type": "markdown",
   "metadata": {},
   "source": [
    "Difference the log-transformed series"
   ]
  },
  {
   "cell_type": "code",
   "execution_count": null,
   "metadata": {},
   "outputs": [],
   "source": [
    "plt.figure(figsize=(10, 5))\n",
    "plt.plot(np.log10(sales_ts).diff(periods=1))\n",
    "plt.xlabel('Years')\n",
    "plt.ylabel('Differenced Log (Tractor Sales)')"
   ]
  },
  {
   "cell_type": "markdown",
   "metadata": {},
   "source": [
    "This looks stationary in both mean and variance"
   ]
  },
  {
   "cell_type": "code",
   "execution_count": null,
   "metadata": {},
   "outputs": [],
   "source": [
    "sales_ts_log = np.log10(sales_ts)\n",
    "sales_ts_log.dropna(inplace=True)\n",
    "\n",
    "sales_ts_log_diff = sales_ts_log.diff(periods=1) \n",
    "sales_ts_log_diff.dropna(inplace=True)"
   ]
  },
  {
   "cell_type": "markdown",
   "metadata": {},
   "source": [
    "Dickey-Fuller test "
   ]
  },
  {
   "cell_type": "code",
   "execution_count": null,
   "metadata": {},
   "outputs": [],
   "source": [
    "print('Results of Dickey-Fuller Test:')\n",
    "dftest = adfuller(sales_ts_log_diff, autolag='AIC')\n",
    "dfoutput = pd.Series(dftest[0:4], index=['Test Statistic', 'p-value', '#lags Used', 'Number of Observations Used'])\n",
    "for key, value in dftest[4].items():\n",
    "    dfoutput['Critical Value (%s)'%key] = value\n",
    "print(dfoutput)"
   ]
  },
  {
   "cell_type": "markdown",
   "metadata": {},
   "source": [
    "autocorrelation function (ACF) and partial autocorrelation function (PACF)"
   ]
  },
  {
   "cell_type": "code",
   "execution_count": null,
   "metadata": {},
   "outputs": [],
   "source": [
    "acf = plot_acf(sales_ts_log_diff)\n",
    "plt.show()"
   ]
  },
  {
   "cell_type": "code",
   "execution_count": null,
   "metadata": {},
   "outputs": [],
   "source": [
    "pacf = plot_pacf(sales_ts_log_diff)\n",
    "plt.show()"
   ]
  },
  {
   "cell_type": "markdown",
   "metadata": {},
   "source": [
    "# Fit ARIMA model"
   ]
  },
  {
   "cell_type": "markdown",
   "metadata": {},
   "source": [
    "##### ARIMA(p,d,q)(P,D,Q)12\n",
    "##### d=1 (differenced once)\n",
    "##### p=0, q=0 (nothing significant after lag 0)\n",
    "##### D=0 (not differenced across seasons)\n",
    "##### P=1, Q=0 (decay in the seasonal lags of PACF, single drop in ACF)"
   ]
  },
  {
   "cell_type": "code",
   "execution_count": null,
   "metadata": {},
   "outputs": [],
   "source": [
    "train_log = np.log10(train)\n",
    "train_log.dropna(inplace=True)\n",
    "\n",
    "test_log = np.log10(test)\n",
    "test_log.dropna(inplace=True)"
   ]
  },
  {
   "cell_type": "code",
   "execution_count": null,
   "metadata": {},
   "outputs": [],
   "source": [
    "model_ARIMA = pm.ARIMA(order=(0,1,0),seasonal_order=(1,0,0,12))\n",
    "model_ARIMA_fit=model_ARIMA.fit(train_log)\n",
    "\n",
    "# Generate predictions (forecasts) 12 periods ahead\n",
    "forecast_ARIMA = model_ARIMA_fit.predict(12)"
   ]
  },
  {
   "cell_type": "markdown",
   "metadata": {},
   "source": [
    "##### The model is on the logarithm of sales at base 10. Let us convert the values. We need to take the exponent of the logarithm - this is the opposite function, the antilogarithm."
   ]
  },
  {
   "cell_type": "code",
   "execution_count": null,
   "metadata": {},
   "outputs": [],
   "source": [
    "forecast_ARIMA = 10**forecast_ARIMA"
   ]
  },
  {
   "cell_type": "code",
   "execution_count": null,
   "metadata": {},
   "outputs": [],
   "source": [
    "# Forecast versus Actual for the test data \n",
    "plt.figure(figsize = (20,7))\n",
    "plt.title('Tractor Sales')\n",
    "x = np.arange(sales_data.shape[0])\n",
    "plt.plot(sales_data.index[:132], train, c='blue')\n",
    "plt.plot(sales_data.index[132:], forecast_ARIMA, c='green', label = 'ARIMA Forecast')\n",
    "plt.plot(sales_data.index[132:], test, c='red', label = 'Actual')\n",
    "plt.legend()\n",
    "plt.xticks(rotation=90)\n",
    "plt.show()"
   ]
  },
  {
   "cell_type": "code",
   "execution_count": null,
   "metadata": {},
   "outputs": [],
   "source": [
    "# Mean Absolute Error (MAE)\n",
    "MAE = (abs(forecast_ARIMA - test)).mean()\n",
    "print('The Mean Absolute Error of our forecasts is',round(MAE, 2))"
   ]
  },
  {
   "cell_type": "code",
   "execution_count": null,
   "metadata": {},
   "outputs": [],
   "source": [
    "# Mean Absolute Percentage Error (MAPE)\n",
    "MAPE = (abs(forecast_ARIMA - test)/abs(test)).mean()\n",
    "print('The Mean Absolute Percentage Error of our forecasts is',round(MAPE, 4))"
   ]
  },
  {
   "cell_type": "code",
   "execution_count": null,
   "metadata": {},
   "outputs": [],
   "source": []
  }
 ],
 "metadata": {
  "kernelspec": {
   "display_name": "Python 3",
   "language": "python",
   "name": "python3"
  },
  "language_info": {
   "codemirror_mode": {
    "name": "ipython",
    "version": 3
   },
   "file_extension": ".py",
   "mimetype": "text/x-python",
   "name": "python",
   "nbconvert_exporter": "python",
   "pygments_lexer": "ipython3",
   "version": "3.8.5"
  }
 },
 "nbformat": 4,
 "nbformat_minor": 4
}
